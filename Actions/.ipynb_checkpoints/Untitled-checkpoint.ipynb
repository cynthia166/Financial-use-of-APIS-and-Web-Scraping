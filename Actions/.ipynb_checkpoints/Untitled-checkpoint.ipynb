{
 "cells": [
  {
   "cell_type": "code",
   "execution_count": 1,
   "metadata": {},
   "outputs": [],
   "source": [
    "import json\n",
    "import requests\n",
    "import pandas as pd\n",
    "from pandas.io.json import json_normalize\n"
   ]
  },
  {
   "cell_type": "code",
   "execution_count": 35,
   "metadata": {},
   "outputs": [],
   "source": [
    "suby = ['VIXY-MM','SHK-GS']"
   ]
  },
  {
   "cell_type": "code",
   "execution_count": 36,
   "metadata": {},
   "outputs": [
    {
     "data": {
      "text/plain": [
       "'https://sandbox.iexapis.com/stable/stock/SHK-GS/chart/1m?token=Tpk_12408ef88e28400f845e4acea5dd0f6e'"
      ]
     },
     "execution_count": 36,
     "metadata": {},
     "output_type": "execute_result"
    }
   ],
   "source": [
    "n = 'VIXY-MM'\n",
    "url=f'https://sandbox.iexapis.com/stable/stock/{suby[1]}/chart/1m?token=Tpk_12408ef88e28400f845e4acea5dd0f6e'\n",
    "\n",
    "url"
   ]
  },
  {
   "cell_type": "code",
   "execution_count": 43,
   "metadata": {},
   "outputs": [],
   "source": [
    "response = requests.get(url)"
   ]
  },
  {
   "cell_type": "code",
   "execution_count": 44,
   "metadata": {},
   "outputs": [
    {
     "data": {
      "text/plain": [
       "b'[{\"close\":0.339,\"high\":0.336,\"low\":0.332,\"open\":0.341,\"symbol\":\"SHK-GS\",\"volume\":0,\"id\":\"OICTRRHSSP_IELIAC\",\"key\":\"HGKS-S\",\"subkey\":\"0\",\"date\":\"2020-12-30\",\"updated\":1658276838041,\"changeOverTime\":0,\"marketChangeOverTime\":0,\"uOpen\":0.332,\"uClose\":0.343,\"uHigh\":0.334,\"uLow\":0.334,\"fOpen\":0.334,\"fClose\":0.332,\"fHigh\":0.34,\"fLow\":0.34,\"label\":\"Dec 30, 20\",\"change\":0,\"changePercent\":0},{\"close\":0.332,\"high\":0.338,\"low\":0.335,\"open\":0.331,\"symbol\":\"SHK-GS\",\"volume\":0,\"id\":\"ESLHICRICIPS_AORT\",\"key\":\"SG-KHS\",\"subkey\":\"0\",\"date\":\"2021-01-04\",\"updated\":1645214233914,\"changeOverTime\":0,\"marketChangeOverTime\":0,\"uOpen\":0.338,\"uClose\":0.339,\"uHigh\":0.333,\"uLow\":0.332,\"fOpen\":0.343,\"fClose\":0.341,\"fHigh\":0.34,\"fLow\":0.331,\"label\":\"Jan 4, 21\",\"change\":0,\"changePercent\":0},{\"close\":0.341,\"high\":0.342,\"low\":0.341,\"open\":0.331,\"symbol\":\"SHK-GS\",\"volume\":0,\"id\":\"CSCSLHIIOTARPREI_\",\"key\":\"HGK-SS\",\"subkey\":\"0\",\"date\":\"2021-01-05\",\"updated\":1678266824652,\"changeOverTime\":0,\"marketChangeOverTime\":0,\"uOpen\":0.334,\"uClose\":0.335,\"uHigh\":0.342,\"uLow\":0.339,\"fOpen\":0.338,\"fClose\":0.336,\"fHigh\":0.332,\"fLow\":0.339,\"label\":\"Jan 5, 21\",\"change\":0,\"changePercent\":0},{\"close\":0.34,\"high\":0.34,\"low\":0.33,\"open\":0.33,\"symbol\":\"SHK-GS\",\"volume\":0,\"id\":\"IICRRCO_TIHEPSLAS\",\"key\":\"GSKSH-\",\"subkey\":\"0\",\"date\":\"2021-01-06\",\"updated\":1686933878196,\"changeOverTime\":0.00632796112104535,\"marketChangeOverTime\":0.006099689159572976,\"uOpen\":0.34,\"uClose\":0.34,\"uHigh\":0.34,\"uLow\":0.33,\"fOpen\":0.35,\"fClose\":0.35,\"fHigh\":0.34,\"fLow\":0.33,\"label\":\"Jan 6, 21\",\"change\":0.002096744374791262,\"changePercent\":0.0064},{\"close\":0.346,\"high\":0.338,\"low\":0.342,\"open\":0.332,\"symbol\":\"SHK-GS\",\"volume\":0,\"id\":\"PHILOIIS_ERTASRCC\",\"key\":\"SGKHS-\",\"subkey\":\"0\",\"date\":\"2021-01-08\",\"updated\":1659152976965,\"changeOverTime\":0.012246913626969617,\"marketChangeOverTime\":0.012252156952513514,\"uOpen\":0.341,\"uClose\":0.344,\"uHigh\":0.337,\"uLow\":0.346,\"fOpen\":0.338,\"fClose\":0.348,\"fHigh\":0.347,\"fLow\":0.347,\"label\":\"Jan 8, 21\",\"change\":0.0020201829340923006,\"changePercent\":0.0061},{\"close\":0.337,\"high\":0.344,\"low\":0.344,\"open\":0.343,\"symbol\":\"SHK-GS\",\"volume\":0,\"id\":\"COARSHRTIPSIE_CLI\",\"key\":\"-SGHSK\",\"subkey\":\"0\",\"date\":\"2021-01-11\",\"updated\":1686845074077,\"changeOverTime\":0.025345689302269,\"marketChangeOverTime\":0.025173193015431104,\"uOpen\":0.34,\"uClose\":0.342,\"uHigh\":0.346,\"uLow\":0.348,\"fOpen\":0.352,\"fClose\":0.343,\"fHigh\":0.338,\"fLow\":0.345,\"label\":\"Jan 11, 21\",\"change\":0.004141677143672367,\"changePercent\":0.012},{\"close\":0.35,\"high\":0.347,\"low\":0.35,\"open\":0.349,\"symbol\":\"SHK-GS\",\"volume\":0,\"id\":\"_EILPCRHCIRTASISO\",\"key\":\"-HSSKG\",\"subkey\":\"0\",\"date\":\"2021-01-12\",\"updated\":1639165675427,\"changeOverTime\":0.03674656448250531,\"marketChangeOverTime\":0.03748963450502041,\"uOpen\":0.357,\"uClose\":0.35,\"uHigh\":0.348,\"uLow\":0.35,\"fOpen\":0.349,\"fClose\":0.35,\"fHigh\":0.343,\"fLow\":0.34,\"label\":\"Jan 12, 21\",\"change\":0.00418262445766748,\"changePercent\":0.0123},{\"close\":0.341,\"high\":0.351,\"low\":0.351,\"open\":0.349,\"symbol\":\"SHK-GS\",\"volume\":0,\"id\":\"EICIRRASPITLCOH_S\",\"key\":\"SGSHK-\",\"subkey\":\"0\",\"date\":\"2021-01-13\",\"updated\":1658780571851,\"changeOverTime\":0.03171918181383732,\"marketChangeOverTime\":0.03139747730281463,\"uOpen\":0.34,\"uClose\":0.339,\"uHigh\":0.341,\"uLow\":0.337,\"fOpen\":0.354,\"fClose\":0.346,\"fHigh\":0.339,\"fLow\":0.353,\"label\":\"Jan 13, 21\",\"change\":-0.0020944859148077128,\"changePercent\":-0.0062},{\"close\":0.354,\"high\":0.34,\"low\":0.35,\"open\":0.352,\"symbol\":\"SHK-GS\",\"volume\":0,\"id\":\"ASTIIICRHOPCSLER_\",\"key\":\"HSG-SK\",\"subkey\":\"0\",\"date\":\"2021-01-14\",\"updated\":1660563740314,\"changeOverTime\":0.03109975494513357,\"marketChangeOverTime\":0.03128225019960337,\"uOpen\":0.34,\"uClose\":0.345,\"uHigh\":0.35,\"uLow\":0.346,\"fOpen\":0.341,\"fClose\":0.341,\"fHigh\":0.35,\"fLow\":0.336,\"label\":\"Jan 14, 21\",\"change\":0,\"changePercent\":0},{\"close\":0.344,\"high\":0.349,\"low\":0.347,\"open\":0.349,\"symbol\":\"SHK-GS\",\"volume\":0,\"id\":\"COHRCLSIPSETAI_RI\",\"key\":\"-GSHKS\",\"subkey\":\"0\",\"date\":\"2021-01-15\",\"updated\":1664668043326,\"changeOverTime\":0.025433435500990746,\"marketChangeOverTime\":0.02471809026795312,\"uOpen\":0.336,\"uClose\":0.351,\"uHigh\":0.347,\"uLow\":0.339,\"fOpen\":0.341,\"fClose\":0.351,\"fHigh\":0.34,\"fLow\":0.347,\"label\":\"Jan 15, 21\",\"change\":-0.002007986707115341,\"changePercent\":-0.0059},{\"close\":0.35,\"high\":0.34,\"low\":0.34,\"open\":0.34,\"symbol\":\"SHK-GS\",\"volume\":0,\"id\":\"LCOATSRHCIEISPI_R\",\"key\":\"KSG-HS\",\"subkey\":\"0\",\"date\":\"2021-01-18\",\"updated\":1661727936226,\"changeOverTime\":0.03785150953350716,\"marketChangeOverTime\":0.03791736386155432,\"uOpen\":0.35,\"uClose\":0.35,\"uHigh\":0.36,\"uLow\":0.36,\"fOpen\":0.35,\"fClose\":0.35,\"fHigh\":0.35,\"fLow\":0.34,\"label\":\"Jan 18, 21\",\"change\":0.004010248541226662,\"changePercent\":0.0122},{\"close\":0.35,\"high\":0.35,\"low\":0.35,\"open\":0.35,\"symbol\":\"SHK-GS\",\"volume\":0,\"id\":\"LCAHI_SRTSCIROPEI\",\"key\":\"HSS-GK\",\"subkey\":\"0\",\"date\":\"2021-01-19\",\"updated\":1643475001743,\"changeOverTime\":0.03702658133491904,\"marketChangeOverTime\":0.0375736556002998,\"uOpen\":0.34,\"uClose\":0.34,\"uHigh\":0.36,\"uLow\":0.34,\"fOpen\":0.35,\"fClose\":0.35,\"fHigh\":0.35,\"fLow\":0.35,\"label\":\"Jan 19, 21\",\"change\":0,\"changePercent\":0},{\"close\":0.352,\"high\":0.347,\"low\":0.343,\"open\":0.346,\"symbol\":\"SHK-GS\",\"volume\":0,\"id\":\"CSIIHSRLARPTO_CIE\",\"key\":\"GHKSS-\",\"subkey\":\"0\",\"date\":\"2021-01-20\",\"updated\":1631095913407,\"changeOverTime\":0.03147842862318456,\"marketChangeOverTime\":0.03198048788414726,\"uOpen\":0.34,\"uClose\":0.34,\"uHigh\":0.341,\"uLow\":0.339,\"fOpen\":0.354,\"fClose\":0.348,\"fHigh\":0.343,\"fLow\":0.351,\"label\":\"Jan 20, 21\",\"change\":-0.0020566025864440013,\"changePercent\":-0.006},{\"close\":0.341,\"high\":0.351,\"low\":0.344,\"open\":0.349,\"symbol\":\"SHK-GS\",\"volume\":0,\"id\":\"IPSRIRAL_TIOSHCCE\",\"key\":\"SHSGK-\",\"subkey\":\"0\",\"date\":\"2021-01-21\",\"updated\":1651753598321,\"changeOverTime\":0.03191512467072209,\"marketChangeOverTime\":0.031202851288671337,\"uOpen\":0.348,\"uClose\":0.349,\"uHigh\":0.347,\"uLow\":0.347,\"fOpen\":0.343,\"fClose\":0.344,\"fHigh\":0.347,\"fLow\":0.345,\"label\":\"Jan 21, 21\",\"change\":0,\"changePercent\":0},{\"close\":0.36,\"high\":0.37,\"low\":0.349,\"open\":0.347,\"symbol\":\"SHK-GS\",\"volume\":4107,\"id\":\"IO_PCSELRRITIHCAS\",\"key\":\"HGSS-K\",\"subkey\":\"0\",\"date\":\"2021-01-22\",\"updated\":1632869682608,\"changeOverTime\":0.09923043489397114,\"marketChangeOverTime\":0.09819886637776501,\"uOpen\":0.334,\"uClose\":0.37,\"uHigh\":0.36,\"uLow\":0.339,\"uVolume\":4185,\"fOpen\":0.339,\"fClose\":0.38,\"fHigh\":0.37,\"fLow\":0.335,\"fVolume\":4103,\"label\":\"Jan 22, 21\",\"change\":0.022733568947572006,\"changePercent\":0.0678},{\"close\":0.348,\"high\":0.34,\"low\":0.337,\"open\":0.348,\"symbol\":\"SHK-GS\",\"volume\":0,\"id\":\"E_IAICSTISPLRHOCR\",\"key\":\"SHSKG-\",\"subkey\":\"0\",\"date\":\"2021-01-25\",\"updated\":1665863684019,\"changeOverTime\":0.018928796190088065,\"marketChangeOverTime\":0.018703679169122696,\"uOpen\":0.344,\"uClose\":0.344,\"uHigh\":0.348,\"uLow\":0.337,\"fOpen\":0.349,\"fClose\":0.344,\"fHigh\":0.335,\"fLow\":0.339,\"label\":\"Jan 25, 21\",\"change\":-0.026803051469978245,\"changePercent\":-0.0734},{\"close\":0.341,\"high\":0.34,\"low\":0.342,\"open\":0.339,\"symbol\":\"SHK-GS\",\"volume\":0,\"id\":\"RASRIPIC_CIESHLTO\",\"key\":\"SKHGS-\",\"subkey\":\"0\",\"date\":\"2021-01-26\",\"updated\":1669577681501,\"changeOverTime\":0.01848268221490248,\"marketChangeOverTime\":0.019112607662789584,\"uOpen\":0.337,\"uClose\":0.34,\"uHigh\":0.347,\"uLow\":0.344,\"fOpen\":0.341,\"fClose\":0.35,\"fHigh\":0.334,\"fLow\":0.346,\"label\":\"Jan 26, 21\",\"change\":0,\"changePercent\":0},{\"close\":0.34,\"high\":0.33,\"low\":0.34,\"open\":0.33,\"symbol\":\"SHK-GS\",\"volume\":0,\"id\":\"LARC_IIEHTSPCOSRI\",\"key\":\"KSGSH-\",\"subkey\":\"0\",\"date\":\"2021-01-27\",\"updated\":1678736242624,\"changeOverTime\":0.006361830335690263,\"marketChangeOverTime\":0.006318654799276332,\"uOpen\":0.33,\"uClose\":0.34,\"uHigh\":0.33,\"uLow\":0.33,\"fOpen\":0.33,\"fClose\":0.34,\"fHigh\":0.34,\"fLow\":0.33,\"label\":\"Jan 27, 21\",\"change\":-0.004087443761399036,\"changePercent\":-0.012},{\"close\":0.35,\"high\":0.35,\"low\":0.33,\"open\":0.34,\"symbol\":\"SHK-GS\",\"volume\":0,\"id\":\"ORTLECIPCIHASRSI_\",\"key\":\"SHSG-K\",\"subkey\":\"0\",\"date\":\"2021-01-28\",\"updated\":1668642387975,\"changeOverTime\":0.006264754004468365,\"marketChangeOverTime\":0.006126730621092262,\"uOpen\":0.34,\"uClose\":0.33,\"uHigh\":0.34,\"uLow\":0.34,\"fOpen\":0.35,\"fClose\":0.34,\"fHigh\":0.34,\"fLow\":0.34,\"label\":\"Jan 28, 21\",\"change\":0,\"changePercent\":0},{\"close\":0.322,\"high\":0.337,\"low\":0.324,\"open\":0.33,\"symbol\":\"SHK-GS\",\"volume\":0,\"id\":\"LRE_TSIPASCIHOICR\",\"key\":\"HGSK-S\",\"subkey\":\"0\",\"date\":\"2021-01-29\",\"updated\":1664049627553,\"changeOverTime\":-0.01853566438517129,\"marketChangeOverTime\":-0.01906714888881843,\"uOpen\":0.334,\"uClose\":0.325,\"uHigh\":0.34,\"uLow\":0.334,\"fOpen\":0.341,\"fClose\":0.325,\"fHigh\":0.331,\"fLow\":0.325,\"label\":\"Jan 29, 21\",\"change\":-0.008184529496830946,\"changePercent\":-0.0247}]'"
      ]
     },
     "execution_count": 44,
     "metadata": {},
     "output_type": "execute_result"
    }
   ],
   "source": [
    "response.content"
   ]
  },
  {
   "cell_type": "code",
   "execution_count": 45,
   "metadata": {},
   "outputs": [
    {
     "name": "stdout",
     "output_type": "stream",
     "text": [
      "[{\"close\":0.339,\"high\":0.336,\"low\":0.332,\"open\":0.341,\"symbol\":\"SHK-GS\",\"volume\":0,\"id\":\"OICTRRHSSP_IELIAC\",\"key\":\"HGKS-S\",\"subkey\":\"0\",\"date\":\"2020-12-30\",\"updated\":1658276838041,\"changeOverTime\":0,\"marketChangeOverTime\":0,\"uOpen\":0.332,\"uClose\":0.343,\"uHigh\":0.334,\"uLow\":0.334,\"fOpen\":0.334,\"fClose\":0.332,\"fHigh\":0.34,\"fLow\":0.34,\"label\":\"Dec 30, 20\",\"change\":0,\"changePercent\":0},{\"close\":0.332,\"high\":0.338,\"low\":0.335,\"open\":0.331,\"symbol\":\"SHK-GS\",\"volume\":0,\"id\":\"ESLHICRICIPS_AORT\",\"key\":\"SG-KHS\",\"subkey\":\"0\",\"date\":\"2021-01-04\",\"updated\":1645214233914,\"changeOverTime\":0,\"marketChangeOverTime\":0,\"uOpen\":0.338,\"uClose\":0.339,\"uHigh\":0.333,\"uLow\":0.332,\"fOpen\":0.343,\"fClose\":0.341,\"fHigh\":0.34,\"fLow\":0.331,\"label\":\"Jan 4, 21\",\"change\":0,\"changePercent\":0},{\"close\":0.341,\"high\":0.342,\"low\":0.341,\"open\":0.331,\"symbol\":\"SHK-GS\",\"volume\":0,\"id\":\"CSCSLHIIOTARPREI_\",\"key\":\"HGK-SS\",\"subkey\":\"0\",\"date\":\"2021-01-05\",\"updated\":1678266824652,\"changeOverTime\":0,\"marketChangeOverTime\":0,\"uOpen\":0.334,\"uClose\":0.335,\"uHigh\":0.342,\"uLow\":0.339,\"fOpen\":0.338,\"fClose\":0.336,\"fHigh\":0.332,\"fLow\":0.339,\"label\":\"Jan 5, 21\",\"change\":0,\"changePercent\":0},{\"close\":0.34,\"high\":0.34,\"low\":0.33,\"open\":0.33,\"symbol\":\"SHK-GS\",\"volume\":0,\"id\":\"IICRRCO_TIHEPSLAS\",\"key\":\"GSKSH-\",\"subkey\":\"0\",\"date\":\"2021-01-06\",\"updated\":1686933878196,\"changeOverTime\":0.00632796112104535,\"marketChangeOverTime\":0.006099689159572976,\"uOpen\":0.34,\"uClose\":0.34,\"uHigh\":0.34,\"uLow\":0.33,\"fOpen\":0.35,\"fClose\":0.35,\"fHigh\":0.34,\"fLow\":0.33,\"label\":\"Jan 6, 21\",\"change\":0.002096744374791262,\"changePercent\":0.0064},{\"close\":0.346,\"high\":0.338,\"low\":0.342,\"open\":0.332,\"symbol\":\"SHK-GS\",\"volume\":0,\"id\":\"PHILOIIS_ERTASRCC\",\"key\":\"SGKHS-\",\"subkey\":\"0\",\"date\":\"2021-01-08\",\"updated\":1659152976965,\"changeOverTime\":0.012246913626969617,\"marketChangeOverTime\":0.012252156952513514,\"uOpen\":0.341,\"uClose\":0.344,\"uHigh\":0.337,\"uLow\":0.346,\"fOpen\":0.338,\"fClose\":0.348,\"fHigh\":0.347,\"fLow\":0.347,\"label\":\"Jan 8, 21\",\"change\":0.0020201829340923006,\"changePercent\":0.0061},{\"close\":0.337,\"high\":0.344,\"low\":0.344,\"open\":0.343,\"symbol\":\"SHK-GS\",\"volume\":0,\"id\":\"COARSHRTIPSIE_CLI\",\"key\":\"-SGHSK\",\"subkey\":\"0\",\"date\":\"2021-01-11\",\"updated\":1686845074077,\"changeOverTime\":0.025345689302269,\"marketChangeOverTime\":0.025173193015431104,\"uOpen\":0.34,\"uClose\":0.342,\"uHigh\":0.346,\"uLow\":0.348,\"fOpen\":0.352,\"fClose\":0.343,\"fHigh\":0.338,\"fLow\":0.345,\"label\":\"Jan 11, 21\",\"change\":0.004141677143672367,\"changePercent\":0.012},{\"close\":0.35,\"high\":0.347,\"low\":0.35,\"open\":0.349,\"symbol\":\"SHK-GS\",\"volume\":0,\"id\":\"_EILPCRHCIRTASISO\",\"key\":\"-HSSKG\",\"subkey\":\"0\",\"date\":\"2021-01-12\",\"updated\":1639165675427,\"changeOverTime\":0.03674656448250531,\"marketChangeOverTime\":0.03748963450502041,\"uOpen\":0.357,\"uClose\":0.35,\"uHigh\":0.348,\"uLow\":0.35,\"fOpen\":0.349,\"fClose\":0.35,\"fHigh\":0.343,\"fLow\":0.34,\"label\":\"Jan 12, 21\",\"change\":0.00418262445766748,\"changePercent\":0.0123},{\"close\":0.341,\"high\":0.351,\"low\":0.351,\"open\":0.349,\"symbol\":\"SHK-GS\",\"volume\":0,\"id\":\"EICIRRASPITLCOH_S\",\"key\":\"SGSHK-\",\"subkey\":\"0\",\"date\":\"2021-01-13\",\"updated\":1658780571851,\"changeOverTime\":0.03171918181383732,\"marketChangeOverTime\":0.03139747730281463,\"uOpen\":0.34,\"uClose\":0.339,\"uHigh\":0.341,\"uLow\":0.337,\"fOpen\":0.354,\"fClose\":0.346,\"fHigh\":0.339,\"fLow\":0.353,\"label\":\"Jan 13, 21\",\"change\":-0.0020944859148077128,\"changePercent\":-0.0062},{\"close\":0.354,\"high\":0.34,\"low\":0.35,\"open\":0.352,\"symbol\":\"SHK-GS\",\"volume\":0,\"id\":\"ASTIIICRHOPCSLER_\",\"key\":\"HSG-SK\",\"subkey\":\"0\",\"date\":\"2021-01-14\",\"updated\":1660563740314,\"changeOverTime\":0.03109975494513357,\"marketChangeOverTime\":0.03128225019960337,\"uOpen\":0.34,\"uClose\":0.345,\"uHigh\":0.35,\"uLow\":0.346,\"fOpen\":0.341,\"fClose\":0.341,\"fHigh\":0.35,\"fLow\":0.336,\"label\":\"Jan 14, 21\",\"change\":0,\"changePercent\":0},{\"close\":0.344,\"high\":0.349,\"low\":0.347,\"open\":0.349,\"symbol\":\"SHK-GS\",\"volume\":0,\"id\":\"COHRCLSIPSETAI_RI\",\"key\":\"-GSHKS\",\"subkey\":\"0\",\"date\":\"2021-01-15\",\"updated\":1664668043326,\"changeOverTime\":0.025433435500990746,\"marketChangeOverTime\":0.02471809026795312,\"uOpen\":0.336,\"uClose\":0.351,\"uHigh\":0.347,\"uLow\":0.339,\"fOpen\":0.341,\"fClose\":0.351,\"fHigh\":0.34,\"fLow\":0.347,\"label\":\"Jan 15, 21\",\"change\":-0.002007986707115341,\"changePercent\":-0.0059},{\"close\":0.35,\"high\":0.34,\"low\":0.34,\"open\":0.34,\"symbol\":\"SHK-GS\",\"volume\":0,\"id\":\"LCOATSRHCIEISPI_R\",\"key\":\"KSG-HS\",\"subkey\":\"0\",\"date\":\"2021-01-18\",\"updated\":1661727936226,\"changeOverTime\":0.03785150953350716,\"marketChangeOverTime\":0.03791736386155432,\"uOpen\":0.35,\"uClose\":0.35,\"uHigh\":0.36,\"uLow\":0.36,\"fOpen\":0.35,\"fClose\":0.35,\"fHigh\":0.35,\"fLow\":0.34,\"label\":\"Jan 18, 21\",\"change\":0.004010248541226662,\"changePercent\":0.0122},{\"close\":0.35,\"high\":0.35,\"low\":0.35,\"open\":0.35,\"symbol\":\"SHK-GS\",\"volume\":0,\"id\":\"LCAHI_SRTSCIROPEI\",\"key\":\"HSS-GK\",\"subkey\":\"0\",\"date\":\"2021-01-19\",\"updated\":1643475001743,\"changeOverTime\":0.03702658133491904,\"marketChangeOverTime\":0.0375736556002998,\"uOpen\":0.34,\"uClose\":0.34,\"uHigh\":0.36,\"uLow\":0.34,\"fOpen\":0.35,\"fClose\":0.35,\"fHigh\":0.35,\"fLow\":0.35,\"label\":\"Jan 19, 21\",\"change\":0,\"changePercent\":0},{\"close\":0.352,\"high\":0.347,\"low\":0.343,\"open\":0.346,\"symbol\":\"SHK-GS\",\"volume\":0,\"id\":\"CSIIHSRLARPTO_CIE\",\"key\":\"GHKSS-\",\"subkey\":\"0\",\"date\":\"2021-01-20\",\"updated\":1631095913407,\"changeOverTime\":0.03147842862318456,\"marketChangeOverTime\":0.03198048788414726,\"uOpen\":0.34,\"uClose\":0.34,\"uHigh\":0.341,\"uLow\":0.339,\"fOpen\":0.354,\"fClose\":0.348,\"fHigh\":0.343,\"fLow\":0.351,\"label\":\"Jan 20, 21\",\"change\":-0.0020566025864440013,\"changePercent\":-0.006},{\"close\":0.341,\"high\":0.351,\"low\":0.344,\"open\":0.349,\"symbol\":\"SHK-GS\",\"volume\":0,\"id\":\"IPSRIRAL_TIOSHCCE\",\"key\":\"SHSGK-\",\"subkey\":\"0\",\"date\":\"2021-01-21\",\"updated\":1651753598321,\"changeOverTime\":0.03191512467072209,\"marketChangeOverTime\":0.031202851288671337,\"uOpen\":0.348,\"uClose\":0.349,\"uHigh\":0.347,\"uLow\":0.347,\"fOpen\":0.343,\"fClose\":0.344,\"fHigh\":0.347,\"fLow\":0.345,\"label\":\"Jan 21, 21\",\"change\":0,\"changePercent\":0},{\"close\":0.36,\"high\":0.37,\"low\":0.349,\"open\":0.347,\"symbol\":\"SHK-GS\",\"volume\":4107,\"id\":\"IO_PCSELRRITIHCAS\",\"key\":\"HGSS-K\",\"subkey\":\"0\",\"date\":\"2021-01-22\",\"updated\":1632869682608,\"changeOverTime\":0.09923043489397114,\"marketChangeOverTime\":0.09819886637776501,\"uOpen\":0.334,\"uClose\":0.37,\"uHigh\":0.36,\"uLow\":0.339,\"uVolume\":4185,\"fOpen\":0.339,\"fClose\":0.38,\"fHigh\":0.37,\"fLow\":0.335,\"fVolume\":4103,\"label\":\"Jan 22, 21\",\"change\":0.022733568947572006,\"changePercent\":0.0678},{\"close\":0.348,\"high\":0.34,\"low\":0.337,\"open\":0.348,\"symbol\":\"SHK-GS\",\"volume\":0,\"id\":\"E_IAICSTISPLRHOCR\",\"key\":\"SHSKG-\",\"subkey\":\"0\",\"date\":\"2021-01-25\",\"updated\":1665863684019,\"changeOverTime\":0.018928796190088065,\"marketChangeOverTime\":0.018703679169122696,\"uOpen\":0.344,\"uClose\":0.344,\"uHigh\":0.348,\"uLow\":0.337,\"fOpen\":0.349,\"fClose\":0.344,\"fHigh\":0.335,\"fLow\":0.339,\"label\":\"Jan 25, 21\",\"change\":-0.026803051469978245,\"changePercent\":-0.0734},{\"close\":0.341,\"high\":0.34,\"low\":0.342,\"open\":0.339,\"symbol\":\"SHK-GS\",\"volume\":0,\"id\":\"RASRIPIC_CIESHLTO\",\"key\":\"SKHGS-\",\"subkey\":\"0\",\"date\":\"2021-01-26\",\"updated\":1669577681501,\"changeOverTime\":0.01848268221490248,\"marketChangeOverTime\":0.019112607662789584,\"uOpen\":0.337,\"uClose\":0.34,\"uHigh\":0.347,\"uLow\":0.344,\"fOpen\":0.341,\"fClose\":0.35,\"fHigh\":0.334,\"fLow\":0.346,\"label\":\"Jan 26, 21\",\"change\":0,\"changePercent\":0},{\"close\":0.34,\"high\":0.33,\"low\":0.34,\"open\":0.33,\"symbol\":\"SHK-GS\",\"volume\":0,\"id\":\"LARC_IIEHTSPCOSRI\",\"key\":\"KSGSH-\",\"subkey\":\"0\",\"date\":\"2021-01-27\",\"updated\":1678736242624,\"changeOverTime\":0.006361830335690263,\"marketChangeOverTime\":0.006318654799276332,\"uOpen\":0.33,\"uClose\":0.34,\"uHigh\":0.33,\"uLow\":0.33,\"fOpen\":0.33,\"fClose\":0.34,\"fHigh\":0.34,\"fLow\":0.33,\"label\":\"Jan 27, 21\",\"change\":-0.004087443761399036,\"changePercent\":-0.012},{\"close\":0.35,\"high\":0.35,\"low\":0.33,\"open\":0.34,\"symbol\":\"SHK-GS\",\"volume\":0,\"id\":\"ORTLECIPCIHASRSI_\",\"key\":\"SHSG-K\",\"subkey\":\"0\",\"date\":\"2021-01-28\",\"updated\":1668642387975,\"changeOverTime\":0.006264754004468365,\"marketChangeOverTime\":0.006126730621092262,\"uOpen\":0.34,\"uClose\":0.33,\"uHigh\":0.34,\"uLow\":0.34,\"fOpen\":0.35,\"fClose\":0.34,\"fHigh\":0.34,\"fLow\":0.34,\"label\":\"Jan 28, 21\",\"change\":0,\"changePercent\":0},{\"close\":0.322,\"high\":0.337,\"low\":0.324,\"open\":0.33,\"symbol\":\"SHK-GS\",\"volume\":0,\"id\":\"LRE_TSIPASCIHOICR\",\"key\":\"HGSK-S\",\"subkey\":\"0\",\"date\":\"2021-01-29\",\"updated\":1664049627553,\"changeOverTime\":-0.01853566438517129,\"marketChangeOverTime\":-0.01906714888881843,\"uOpen\":0.334,\"uClose\":0.325,\"uHigh\":0.34,\"uLow\":0.334,\"fOpen\":0.341,\"fClose\":0.325,\"fHigh\":0.331,\"fLow\":0.325,\"label\":\"Jan 29, 21\",\"change\":-0.008184529496830946,\"changePercent\":-0.0247}]\n"
     ]
    }
   ],
   "source": [
    "print(response.text)"
   ]
  },
  {
   "cell_type": "code",
   "execution_count": 46,
   "metadata": {},
   "outputs": [],
   "source": [
    "res_j = response.json()"
   ]
  },
  {
   "cell_type": "code",
   "execution_count": 47,
   "metadata": {},
   "outputs": [
    {
     "data": {
      "text/plain": [
       "dict_keys(['close', 'high', 'low', 'open', 'symbol', 'volume', 'id', 'key', 'subkey', 'date', 'updated', 'changeOverTime', 'marketChangeOverTime', 'uOpen', 'uClose', 'uHigh', 'uLow', 'fOpen', 'fClose', 'fHigh', 'fLow', 'label', 'change', 'changePercent'])"
      ]
     },
     "execution_count": 47,
     "metadata": {},
     "output_type": "execute_result"
    }
   ],
   "source": [
    "res_j[0].keys()"
   ]
  },
  {
   "cell_type": "code",
   "execution_count": 48,
   "metadata": {},
   "outputs": [],
   "source": [
    "data = pd.DataFrame(res_j)"
   ]
  },
  {
   "cell_type": "code",
   "execution_count": 53,
   "metadata": {},
   "outputs": [
    {
     "data": {
      "text/html": [
       "<div>\n",
       "<style scoped>\n",
       "    .dataframe tbody tr th:only-of-type {\n",
       "        vertical-align: middle;\n",
       "    }\n",
       "\n",
       "    .dataframe tbody tr th {\n",
       "        vertical-align: top;\n",
       "    }\n",
       "\n",
       "    .dataframe thead th {\n",
       "        text-align: right;\n",
       "    }\n",
       "</style>\n",
       "<table border=\"1\" class=\"dataframe\">\n",
       "  <thead>\n",
       "    <tr style=\"text-align: right;\">\n",
       "      <th></th>\n",
       "      <th>date</th>\n",
       "      <th>VIXY-MM</th>\n",
       "      <th>SHK-GS</th>\n",
       "    </tr>\n",
       "  </thead>\n",
       "  <tbody>\n",
       "    <tr>\n",
       "      <th>0</th>\n",
       "      <td>2020-12-30</td>\n",
       "      <td>303.87</td>\n",
       "      <td>0.332</td>\n",
       "    </tr>\n",
       "    <tr>\n",
       "      <th>1</th>\n",
       "      <td>2021-01-04</td>\n",
       "      <td>310.23</td>\n",
       "      <td>0.341</td>\n",
       "    </tr>\n",
       "    <tr>\n",
       "      <th>2</th>\n",
       "      <td>2021-01-05</td>\n",
       "      <td>307.73</td>\n",
       "      <td>0.336</td>\n",
       "    </tr>\n",
       "    <tr>\n",
       "      <th>3</th>\n",
       "      <td>2021-01-06</td>\n",
       "      <td>309.65</td>\n",
       "      <td>0.350</td>\n",
       "    </tr>\n",
       "    <tr>\n",
       "      <th>4</th>\n",
       "      <td>2021-01-07</td>\n",
       "      <td>307.83</td>\n",
       "      <td>0.348</td>\n",
       "    </tr>\n",
       "    <tr>\n",
       "      <th>5</th>\n",
       "      <td>2021-01-11</td>\n",
       "      <td>298.51</td>\n",
       "      <td>0.343</td>\n",
       "    </tr>\n",
       "    <tr>\n",
       "      <th>6</th>\n",
       "      <td>2021-01-13</td>\n",
       "      <td>281.15</td>\n",
       "      <td>0.350</td>\n",
       "    </tr>\n",
       "    <tr>\n",
       "      <th>7</th>\n",
       "      <td>2021-01-14</td>\n",
       "      <td>274.21</td>\n",
       "      <td>0.346</td>\n",
       "    </tr>\n",
       "    <tr>\n",
       "      <th>8</th>\n",
       "      <td>2021-01-15</td>\n",
       "      <td>278.41</td>\n",
       "      <td>0.341</td>\n",
       "    </tr>\n",
       "    <tr>\n",
       "      <th>9</th>\n",
       "      <td>2021-01-18</td>\n",
       "      <td>288.97</td>\n",
       "      <td>0.351</td>\n",
       "    </tr>\n",
       "    <tr>\n",
       "      <th>10</th>\n",
       "      <td>2021-01-19</td>\n",
       "      <td>277.80</td>\n",
       "      <td>0.350</td>\n",
       "    </tr>\n",
       "    <tr>\n",
       "      <th>11</th>\n",
       "      <td>2021-01-20</td>\n",
       "      <td>271.00</td>\n",
       "      <td>0.350</td>\n",
       "    </tr>\n",
       "    <tr>\n",
       "      <th>12</th>\n",
       "      <td>2021-01-21</td>\n",
       "      <td>271.00</td>\n",
       "      <td>0.348</td>\n",
       "    </tr>\n",
       "    <tr>\n",
       "      <th>13</th>\n",
       "      <td>2021-01-22</td>\n",
       "      <td>271.00</td>\n",
       "      <td>0.344</td>\n",
       "    </tr>\n",
       "    <tr>\n",
       "      <th>14</th>\n",
       "      <td>2021-01-25</td>\n",
       "      <td>276.08</td>\n",
       "      <td>0.380</td>\n",
       "    </tr>\n",
       "    <tr>\n",
       "      <th>15</th>\n",
       "      <td>2021-01-26</td>\n",
       "      <td>282.80</td>\n",
       "      <td>0.344</td>\n",
       "    </tr>\n",
       "    <tr>\n",
       "      <th>16</th>\n",
       "      <td>2021-01-27</td>\n",
       "      <td>284.24</td>\n",
       "      <td>0.350</td>\n",
       "    </tr>\n",
       "    <tr>\n",
       "      <th>17</th>\n",
       "      <td>2021-01-28</td>\n",
       "      <td>333.00</td>\n",
       "      <td>0.340</td>\n",
       "    </tr>\n",
       "    <tr>\n",
       "      <th>18</th>\n",
       "      <td>2021-01-29</td>\n",
       "      <td>336.80</td>\n",
       "      <td>0.340</td>\n",
       "    </tr>\n",
       "    <tr>\n",
       "      <th>19</th>\n",
       "      <td>NaN</td>\n",
       "      <td>NaN</td>\n",
       "      <td>0.325</td>\n",
       "    </tr>\n",
       "  </tbody>\n",
       "</table>\n",
       "</div>"
      ],
      "text/plain": [
       "          date  VIXY-MM  SHK-GS\n",
       "0   2020-12-30   303.87   0.332\n",
       "1   2021-01-04   310.23   0.341\n",
       "2   2021-01-05   307.73   0.336\n",
       "3   2021-01-06   309.65   0.350\n",
       "4   2021-01-07   307.83   0.348\n",
       "5   2021-01-11   298.51   0.343\n",
       "6   2021-01-13   281.15   0.350\n",
       "7   2021-01-14   274.21   0.346\n",
       "8   2021-01-15   278.41   0.341\n",
       "9   2021-01-18   288.97   0.351\n",
       "10  2021-01-19   277.80   0.350\n",
       "11  2021-01-20   271.00   0.350\n",
       "12  2021-01-21   271.00   0.348\n",
       "13  2021-01-22   271.00   0.344\n",
       "14  2021-01-25   276.08   0.380\n",
       "15  2021-01-26   282.80   0.344\n",
       "16  2021-01-27   284.24   0.350\n",
       "17  2021-01-28   333.00   0.340\n",
       "18  2021-01-29   336.80   0.340\n",
       "19         NaN      NaN   0.325"
      ]
     },
     "execution_count": 53,
     "metadata": {},
     "output_type": "execute_result"
    }
   ],
   "source": [
    "data_ca = data.copy()\n",
    "data_ca=  data[['fClose']]\n",
    "data_ca = data_ca.rename(columns={'fClose': f'{suby[1]}'})\n",
    "\n",
    "df_ori= pd.concat([df_new, data_ca], axis=1,)\n",
    "df_ori"
   ]
  },
  {
   "cell_type": "code",
   "execution_count": null,
   "metadata": {},
   "outputs": [],
   "source": [
    "data1 = data[['date','fClose']]\n",
    "df_new = data1.rename(columns={'fClose': f'{n}'})\n"
   ]
  },
  {
   "cell_type": "code",
   "execution_count": null,
   "metadata": {},
   "outputs": [],
   "source": []
  }
 ],
 "metadata": {
  "kernelspec": {
   "display_name": "Python 3",
   "language": "python",
   "name": "python3"
  },
  "language_info": {
   "codemirror_mode": {
    "name": "ipython",
    "version": 3
   },
   "file_extension": ".py",
   "mimetype": "text/x-python",
   "name": "python",
   "nbconvert_exporter": "python",
   "pygments_lexer": "ipython3",
   "version": "3.8.5"
  }
 },
 "nbformat": 4,
 "nbformat_minor": 4
}
